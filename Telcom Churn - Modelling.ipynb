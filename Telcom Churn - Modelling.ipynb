{
 "cells": [
  {
   "cell_type": "code",
   "execution_count": 1,
   "metadata": {},
   "outputs": [],
   "source": [
    "import numpy as np\n",
    "import pandas as pd\n",
    "from pandas import Series,DataFrame\n",
    "\n",
    "from sklearn.model_selection import train_test_split\n",
    "from sklearn.linear_model import LogisticRegression\n",
    "from sklearn.ensemble import RandomForestClassifier\n",
    "from sklearn.neighbors import KNeighborsClassifier\n",
    "from sklearn.metrics import confusion_matrix"
   ]
  },
  {
   "cell_type": "code",
   "execution_count": 2,
   "metadata": {},
   "outputs": [],
   "source": [
    "##For this churn problem - the data is being loaded from https://www.kaggle.com/blastchar/telco-customer-churn\n",
    "\n",
    "file = '../WA_Fn-UseC_-Telco-Customer-Churn.csv'\n",
    "\n",
    "churn_data = pd.read_csv(file)"
   ]
  },
  {
   "cell_type": "code",
   "execution_count": 3,
   "metadata": {},
   "outputs": [
    {
     "data": {
      "text/html": [
       "<div>\n",
       "<style scoped>\n",
       "    .dataframe tbody tr th:only-of-type {\n",
       "        vertical-align: middle;\n",
       "    }\n",
       "\n",
       "    .dataframe tbody tr th {\n",
       "        vertical-align: top;\n",
       "    }\n",
       "\n",
       "    .dataframe thead th {\n",
       "        text-align: right;\n",
       "    }\n",
       "</style>\n",
       "<table border=\"1\" class=\"dataframe\">\n",
       "  <thead>\n",
       "    <tr style=\"text-align: right;\">\n",
       "      <th></th>\n",
       "      <th>Customerid</th>\n",
       "      <th>Gender</th>\n",
       "      <th>Seniorcitizen</th>\n",
       "      <th>Partner</th>\n",
       "      <th>Dependents</th>\n",
       "      <th>Tenure</th>\n",
       "      <th>Phoneservice</th>\n",
       "      <th>Multiplelines</th>\n",
       "      <th>Internetservice</th>\n",
       "      <th>Onlinesecurity</th>\n",
       "      <th>...</th>\n",
       "      <th>Deviceprotection</th>\n",
       "      <th>Techsupport</th>\n",
       "      <th>Streamingtv</th>\n",
       "      <th>Streamingmovies</th>\n",
       "      <th>Contract</th>\n",
       "      <th>Paperlessbilling</th>\n",
       "      <th>Paymentmethod</th>\n",
       "      <th>Monthlycharges</th>\n",
       "      <th>Totalcharges</th>\n",
       "      <th>Churn</th>\n",
       "    </tr>\n",
       "  </thead>\n",
       "  <tbody>\n",
       "    <tr>\n",
       "      <th>0</th>\n",
       "      <td>7590-VHVEG</td>\n",
       "      <td>Female</td>\n",
       "      <td>0</td>\n",
       "      <td>Yes</td>\n",
       "      <td>No</td>\n",
       "      <td>1</td>\n",
       "      <td>No</td>\n",
       "      <td>No phone service</td>\n",
       "      <td>DSL</td>\n",
       "      <td>No</td>\n",
       "      <td>...</td>\n",
       "      <td>No</td>\n",
       "      <td>No</td>\n",
       "      <td>No</td>\n",
       "      <td>No</td>\n",
       "      <td>Month-to-month</td>\n",
       "      <td>Yes</td>\n",
       "      <td>Electronic check</td>\n",
       "      <td>29.85</td>\n",
       "      <td>29.85</td>\n",
       "      <td>No</td>\n",
       "    </tr>\n",
       "    <tr>\n",
       "      <th>1</th>\n",
       "      <td>5575-GNVDE</td>\n",
       "      <td>Male</td>\n",
       "      <td>0</td>\n",
       "      <td>No</td>\n",
       "      <td>No</td>\n",
       "      <td>34</td>\n",
       "      <td>Yes</td>\n",
       "      <td>No</td>\n",
       "      <td>DSL</td>\n",
       "      <td>Yes</td>\n",
       "      <td>...</td>\n",
       "      <td>Yes</td>\n",
       "      <td>No</td>\n",
       "      <td>No</td>\n",
       "      <td>No</td>\n",
       "      <td>One year</td>\n",
       "      <td>No</td>\n",
       "      <td>Mailed check</td>\n",
       "      <td>56.95</td>\n",
       "      <td>1889.5</td>\n",
       "      <td>No</td>\n",
       "    </tr>\n",
       "    <tr>\n",
       "      <th>2</th>\n",
       "      <td>3668-QPYBK</td>\n",
       "      <td>Male</td>\n",
       "      <td>0</td>\n",
       "      <td>No</td>\n",
       "      <td>No</td>\n",
       "      <td>2</td>\n",
       "      <td>Yes</td>\n",
       "      <td>No</td>\n",
       "      <td>DSL</td>\n",
       "      <td>Yes</td>\n",
       "      <td>...</td>\n",
       "      <td>No</td>\n",
       "      <td>No</td>\n",
       "      <td>No</td>\n",
       "      <td>No</td>\n",
       "      <td>Month-to-month</td>\n",
       "      <td>Yes</td>\n",
       "      <td>Mailed check</td>\n",
       "      <td>53.85</td>\n",
       "      <td>108.15</td>\n",
       "      <td>Yes</td>\n",
       "    </tr>\n",
       "    <tr>\n",
       "      <th>3</th>\n",
       "      <td>7795-CFOCW</td>\n",
       "      <td>Male</td>\n",
       "      <td>0</td>\n",
       "      <td>No</td>\n",
       "      <td>No</td>\n",
       "      <td>45</td>\n",
       "      <td>No</td>\n",
       "      <td>No phone service</td>\n",
       "      <td>DSL</td>\n",
       "      <td>Yes</td>\n",
       "      <td>...</td>\n",
       "      <td>Yes</td>\n",
       "      <td>Yes</td>\n",
       "      <td>No</td>\n",
       "      <td>No</td>\n",
       "      <td>One year</td>\n",
       "      <td>No</td>\n",
       "      <td>Bank transfer (automatic)</td>\n",
       "      <td>42.30</td>\n",
       "      <td>1840.75</td>\n",
       "      <td>No</td>\n",
       "    </tr>\n",
       "    <tr>\n",
       "      <th>4</th>\n",
       "      <td>9237-HQITU</td>\n",
       "      <td>Female</td>\n",
       "      <td>0</td>\n",
       "      <td>No</td>\n",
       "      <td>No</td>\n",
       "      <td>2</td>\n",
       "      <td>Yes</td>\n",
       "      <td>No</td>\n",
       "      <td>Fiber optic</td>\n",
       "      <td>No</td>\n",
       "      <td>...</td>\n",
       "      <td>No</td>\n",
       "      <td>No</td>\n",
       "      <td>No</td>\n",
       "      <td>No</td>\n",
       "      <td>Month-to-month</td>\n",
       "      <td>Yes</td>\n",
       "      <td>Electronic check</td>\n",
       "      <td>70.70</td>\n",
       "      <td>151.65</td>\n",
       "      <td>Yes</td>\n",
       "    </tr>\n",
       "  </tbody>\n",
       "</table>\n",
       "<p>5 rows × 21 columns</p>\n",
       "</div>"
      ],
      "text/plain": [
       "   Customerid  Gender  Seniorcitizen Partner Dependents  Tenure Phoneservice  \\\n",
       "0  7590-VHVEG  Female              0     Yes         No       1           No   \n",
       "1  5575-GNVDE    Male              0      No         No      34          Yes   \n",
       "2  3668-QPYBK    Male              0      No         No       2          Yes   \n",
       "3  7795-CFOCW    Male              0      No         No      45           No   \n",
       "4  9237-HQITU  Female              0      No         No       2          Yes   \n",
       "\n",
       "      Multiplelines Internetservice Onlinesecurity  ... Deviceprotection  \\\n",
       "0  No phone service             DSL             No  ...               No   \n",
       "1                No             DSL            Yes  ...              Yes   \n",
       "2                No             DSL            Yes  ...               No   \n",
       "3  No phone service             DSL            Yes  ...              Yes   \n",
       "4                No     Fiber optic             No  ...               No   \n",
       "\n",
       "  Techsupport Streamingtv Streamingmovies        Contract Paperlessbilling  \\\n",
       "0          No          No              No  Month-to-month              Yes   \n",
       "1          No          No              No        One year               No   \n",
       "2          No          No              No  Month-to-month              Yes   \n",
       "3         Yes          No              No        One year               No   \n",
       "4          No          No              No  Month-to-month              Yes   \n",
       "\n",
       "               Paymentmethod Monthlycharges  Totalcharges Churn  \n",
       "0           Electronic check          29.85         29.85    No  \n",
       "1               Mailed check          56.95        1889.5    No  \n",
       "2               Mailed check          53.85        108.15   Yes  \n",
       "3  Bank transfer (automatic)          42.30       1840.75    No  \n",
       "4           Electronic check          70.70        151.65   Yes  \n",
       "\n",
       "[5 rows x 21 columns]"
      ]
     },
     "execution_count": 3,
     "metadata": {},
     "output_type": "execute_result"
    }
   ],
   "source": [
    "churn_data.columns = [col.title() for col in churn_data.columns]\n",
    "churn_data.head()"
   ]
  },
  {
   "cell_type": "code",
   "execution_count": 4,
   "metadata": {},
   "outputs": [
    {
     "data": {
      "text/plain": [
       "Customerid           object\n",
       "Gender               object\n",
       "Seniorcitizen         int64\n",
       "Partner              object\n",
       "Dependents           object\n",
       "Tenure                int64\n",
       "Phoneservice         object\n",
       "Multiplelines        object\n",
       "Internetservice      object\n",
       "Onlinesecurity       object\n",
       "Onlinebackup         object\n",
       "Deviceprotection     object\n",
       "Techsupport          object\n",
       "Streamingtv          object\n",
       "Streamingmovies      object\n",
       "Contract             object\n",
       "Paperlessbilling     object\n",
       "Paymentmethod        object\n",
       "Monthlycharges      float64\n",
       "Totalcharges         object\n",
       "Churn                object\n",
       "dtype: object"
      ]
     },
     "execution_count": 4,
     "metadata": {},
     "output_type": "execute_result"
    }
   ],
   "source": [
    "churn_data.dtypes"
   ]
  },
  {
   "cell_type": "markdown",
   "metadata": {},
   "source": [
    "Our baseline is going to be randomly assigning a class - 0/1 for No churn/Churn respectively\n",
    "\n",
    "I am selecting three models here - linear regression for its class probability estimations, knn as it based on distances and a tree based random forest model for its information gain with features. We can later make ensemble models combining them."
   ]
  },
  {
   "cell_type": "code",
   "execution_count": 5,
   "metadata": {},
   "outputs": [],
   "source": [
    "#reengineering some features to reduce the distance issues with some classification models.\n",
    "churn_data['Tenure_in_yrs'] = churn_data['Tenure']//12\n",
    "churn_data['Monthlycharges_100s'] = round(churn_data['Monthlycharges']/100,2)\n",
    "\n",
    "#convert total charges to float and converting it to 1000's\n",
    "churn_data['Totalcharges'] = pd.to_numeric(churn_data['Totalcharges'], errors='coerce').fillna(0)\n",
    "churn_data['Totalcharges_1000s'] = round(churn_data['Totalcharges']/1000, 2)\n",
    "\n",
    "#dropping the original columns and also customer id\n",
    "churn_data.drop(columns = ['Tenure','Monthlycharges','Totalcharges','Customerid'],inplace = True)\n",
    "\n",
    "#replace 'No Internet Service' and 'No Phone Service'  as No\n",
    "churn_data = churn_data.replace({'No phone service':'No', 'No internet service':'No'})"
   ]
  },
  {
   "cell_type": "code",
   "execution_count": null,
   "metadata": {},
   "outputs": [],
   "source": []
  },
  {
   "cell_type": "code",
   "execution_count": 6,
   "metadata": {},
   "outputs": [],
   "source": [
    "def transform_categorical_data(df, cols, drop_first=True, convert_ascat = True):\n",
    "    \"\"\"\n",
    "    Transform categorical data in the columns into dummy data using pandas.\n",
    "    ----------\n",
    "    df : Dataframe \n",
    "    cols : categorical columns to be converted into dummy data\n",
    "    drop_orgnl : Boolean, if set to True drops the original column.\n",
    "    drop_first : Boolean if True drops one of the dummy column\n",
    "    convert_ascat : convert columns into categorical.\n",
    "    \n",
    "    Return\n",
    "    -------\n",
    "    Dataframe with the original frame concatenated with dummy data\n",
    "    \"\"\"\n",
    "    from sklearn.preprocessing import LabelEncoder\n",
    "    \n",
    "    if convert_ascat == True:\n",
    "        df[cols] = df[cols].astype('category')\n",
    "    binary_cols = [c for c in cols if df[c].nunique() ==2]\n",
    "    multi_cols = [ c for c in cols if c not in binary_cols]\n",
    "    \n",
    "    \n",
    "    le = LabelEncoder()\n",
    "    for i in binary_cols:\n",
    "        df[i] = le.fit_transform(df[i])\n",
    "    \n",
    "    df = pd.get_dummies(data = df,columns = multi_cols, drop_first=drop_first)\n",
    "    \n",
    "    return df"
   ]
  },
  {
   "cell_type": "code",
   "execution_count": null,
   "metadata": {},
   "outputs": [],
   "source": []
  },
  {
   "cell_type": "code",
   "execution_count": 7,
   "metadata": {},
   "outputs": [
    {
     "data": {
      "text/html": [
       "<div>\n",
       "<style scoped>\n",
       "    .dataframe tbody tr th:only-of-type {\n",
       "        vertical-align: middle;\n",
       "    }\n",
       "\n",
       "    .dataframe tbody tr th {\n",
       "        vertical-align: top;\n",
       "    }\n",
       "\n",
       "    .dataframe thead th {\n",
       "        text-align: right;\n",
       "    }\n",
       "</style>\n",
       "<table border=\"1\" class=\"dataframe\">\n",
       "  <thead>\n",
       "    <tr style=\"text-align: right;\">\n",
       "      <th></th>\n",
       "      <th>Gender</th>\n",
       "      <th>Seniorcitizen</th>\n",
       "      <th>Partner</th>\n",
       "      <th>Dependents</th>\n",
       "      <th>Phoneservice</th>\n",
       "      <th>Multiplelines</th>\n",
       "      <th>Onlinesecurity</th>\n",
       "      <th>Onlinebackup</th>\n",
       "      <th>Deviceprotection</th>\n",
       "      <th>Techsupport</th>\n",
       "      <th>...</th>\n",
       "      <th>Tenure_in_yrs</th>\n",
       "      <th>Monthlycharges_100s</th>\n",
       "      <th>Totalcharges_1000s</th>\n",
       "      <th>Internetservice_Fiber optic</th>\n",
       "      <th>Internetservice_No</th>\n",
       "      <th>Contract_One year</th>\n",
       "      <th>Contract_Two year</th>\n",
       "      <th>Paymentmethod_Credit card (automatic)</th>\n",
       "      <th>Paymentmethod_Electronic check</th>\n",
       "      <th>Paymentmethod_Mailed check</th>\n",
       "    </tr>\n",
       "  </thead>\n",
       "  <tbody>\n",
       "    <tr>\n",
       "      <th>0</th>\n",
       "      <td>0</td>\n",
       "      <td>0</td>\n",
       "      <td>1</td>\n",
       "      <td>0</td>\n",
       "      <td>0</td>\n",
       "      <td>0</td>\n",
       "      <td>0</td>\n",
       "      <td>1</td>\n",
       "      <td>0</td>\n",
       "      <td>0</td>\n",
       "      <td>...</td>\n",
       "      <td>0</td>\n",
       "      <td>0.30</td>\n",
       "      <td>0.03</td>\n",
       "      <td>0</td>\n",
       "      <td>0</td>\n",
       "      <td>0</td>\n",
       "      <td>0</td>\n",
       "      <td>0</td>\n",
       "      <td>1</td>\n",
       "      <td>0</td>\n",
       "    </tr>\n",
       "    <tr>\n",
       "      <th>1</th>\n",
       "      <td>1</td>\n",
       "      <td>0</td>\n",
       "      <td>0</td>\n",
       "      <td>0</td>\n",
       "      <td>1</td>\n",
       "      <td>0</td>\n",
       "      <td>1</td>\n",
       "      <td>0</td>\n",
       "      <td>1</td>\n",
       "      <td>0</td>\n",
       "      <td>...</td>\n",
       "      <td>2</td>\n",
       "      <td>0.57</td>\n",
       "      <td>1.89</td>\n",
       "      <td>0</td>\n",
       "      <td>0</td>\n",
       "      <td>1</td>\n",
       "      <td>0</td>\n",
       "      <td>0</td>\n",
       "      <td>0</td>\n",
       "      <td>1</td>\n",
       "    </tr>\n",
       "    <tr>\n",
       "      <th>2</th>\n",
       "      <td>1</td>\n",
       "      <td>0</td>\n",
       "      <td>0</td>\n",
       "      <td>0</td>\n",
       "      <td>1</td>\n",
       "      <td>0</td>\n",
       "      <td>1</td>\n",
       "      <td>1</td>\n",
       "      <td>0</td>\n",
       "      <td>0</td>\n",
       "      <td>...</td>\n",
       "      <td>0</td>\n",
       "      <td>0.54</td>\n",
       "      <td>0.11</td>\n",
       "      <td>0</td>\n",
       "      <td>0</td>\n",
       "      <td>0</td>\n",
       "      <td>0</td>\n",
       "      <td>0</td>\n",
       "      <td>0</td>\n",
       "      <td>1</td>\n",
       "    </tr>\n",
       "    <tr>\n",
       "      <th>3</th>\n",
       "      <td>1</td>\n",
       "      <td>0</td>\n",
       "      <td>0</td>\n",
       "      <td>0</td>\n",
       "      <td>0</td>\n",
       "      <td>0</td>\n",
       "      <td>1</td>\n",
       "      <td>0</td>\n",
       "      <td>1</td>\n",
       "      <td>1</td>\n",
       "      <td>...</td>\n",
       "      <td>3</td>\n",
       "      <td>0.42</td>\n",
       "      <td>1.84</td>\n",
       "      <td>0</td>\n",
       "      <td>0</td>\n",
       "      <td>1</td>\n",
       "      <td>0</td>\n",
       "      <td>0</td>\n",
       "      <td>0</td>\n",
       "      <td>0</td>\n",
       "    </tr>\n",
       "    <tr>\n",
       "      <th>4</th>\n",
       "      <td>0</td>\n",
       "      <td>0</td>\n",
       "      <td>0</td>\n",
       "      <td>0</td>\n",
       "      <td>1</td>\n",
       "      <td>0</td>\n",
       "      <td>0</td>\n",
       "      <td>0</td>\n",
       "      <td>0</td>\n",
       "      <td>0</td>\n",
       "      <td>...</td>\n",
       "      <td>0</td>\n",
       "      <td>0.71</td>\n",
       "      <td>0.15</td>\n",
       "      <td>1</td>\n",
       "      <td>0</td>\n",
       "      <td>0</td>\n",
       "      <td>0</td>\n",
       "      <td>0</td>\n",
       "      <td>1</td>\n",
       "      <td>0</td>\n",
       "    </tr>\n",
       "  </tbody>\n",
       "</table>\n",
       "<p>5 rows × 24 columns</p>\n",
       "</div>"
      ],
      "text/plain": [
       "   Gender  Seniorcitizen  Partner  Dependents  Phoneservice  Multiplelines  \\\n",
       "0       0              0        1           0             0              0   \n",
       "1       1              0        0           0             1              0   \n",
       "2       1              0        0           0             1              0   \n",
       "3       1              0        0           0             0              0   \n",
       "4       0              0        0           0             1              0   \n",
       "\n",
       "   Onlinesecurity  Onlinebackup  Deviceprotection  Techsupport  ...  \\\n",
       "0               0             1                 0            0  ...   \n",
       "1               1             0                 1            0  ...   \n",
       "2               1             1                 0            0  ...   \n",
       "3               1             0                 1            1  ...   \n",
       "4               0             0                 0            0  ...   \n",
       "\n",
       "   Tenure_in_yrs  Monthlycharges_100s  Totalcharges_1000s  \\\n",
       "0              0                 0.30                0.03   \n",
       "1              2                 0.57                1.89   \n",
       "2              0                 0.54                0.11   \n",
       "3              3                 0.42                1.84   \n",
       "4              0                 0.71                0.15   \n",
       "\n",
       "   Internetservice_Fiber optic  Internetservice_No  Contract_One year  \\\n",
       "0                            0                   0                  0   \n",
       "1                            0                   0                  1   \n",
       "2                            0                   0                  0   \n",
       "3                            0                   0                  1   \n",
       "4                            1                   0                  0   \n",
       "\n",
       "   Contract_Two year  Paymentmethod_Credit card (automatic)  \\\n",
       "0                  0                                      0   \n",
       "1                  0                                      0   \n",
       "2                  0                                      0   \n",
       "3                  0                                      0   \n",
       "4                  0                                      0   \n",
       "\n",
       "   Paymentmethod_Electronic check  Paymentmethod_Mailed check  \n",
       "0                               1                           0  \n",
       "1                               0                           1  \n",
       "2                               0                           1  \n",
       "3                               0                           0  \n",
       "4                               1                           0  \n",
       "\n",
       "[5 rows x 24 columns]"
      ]
     },
     "execution_count": 7,
     "metadata": {},
     "output_type": "execute_result"
    }
   ],
   "source": [
    "#taking all the columns except for the customer id\n",
    "cat_cols = [col for col in churn_data.columns if (churn_data[col].dtype.name in ['object','category'])]\n",
    "\n",
    "churn_data = transform_categorical_data(churn_data, cat_cols)\n",
    "churn_data.head()"
   ]
  },
  {
   "cell_type": "code",
   "execution_count": 8,
   "metadata": {},
   "outputs": [
    {
     "data": {
      "text/plain": [
       "Index(['Gender', 'Seniorcitizen', 'Partner', 'Dependents', 'Phoneservice',\n",
       "       'Multiplelines', 'Onlinesecurity', 'Onlinebackup', 'Deviceprotection',\n",
       "       'Techsupport', 'Streamingtv', 'Streamingmovies', 'Paperlessbilling',\n",
       "       'Churn', 'Tenure_in_yrs', 'Monthlycharges_100s', 'Totalcharges_1000s',\n",
       "       'Internetservice_Fiber optic', 'Internetservice_No',\n",
       "       'Contract_One year', 'Contract_Two year',\n",
       "       'Paymentmethod_Credit card (automatic)',\n",
       "       'Paymentmethod_Electronic check', 'Paymentmethod_Mailed check'],\n",
       "      dtype='object')"
      ]
     },
     "execution_count": 8,
     "metadata": {},
     "output_type": "execute_result"
    }
   ],
   "source": [
    "churn_data.columns"
   ]
  },
  {
   "cell_type": "code",
   "execution_count": 13,
   "metadata": {},
   "outputs": [],
   "source": [
    "#creating a new feature family that captures if a customer has a partner or dependents (children or parents)\n",
    "churn_data['Family'] = np.where((churn_data['Partner'] == 1) |(churn_data['Dependents'] == 1),1,0)\n",
    "churn_data.drop(columns=['Partner','Dependents'],inplace=True)"
   ]
  },
  {
   "cell_type": "code",
   "execution_count": 15,
   "metadata": {},
   "outputs": [],
   "source": [
    "#removing Total charges also as its highly related to monthly charges and tenure.\n",
    "X, Y = churn_data.drop(columns=['Churn','Totalcharges_1000s']), churn_data.Churn"
   ]
  },
  {
   "cell_type": "code",
   "execution_count": null,
   "metadata": {},
   "outputs": [],
   "source": []
  },
  {
   "cell_type": "code",
   "execution_count": 17,
   "metadata": {},
   "outputs": [
    {
     "name": "stdout",
     "output_type": "stream",
     "text": [
      "baseline accuracy is 0.135\n"
     ]
    }
   ],
   "source": [
    "#creating a baseline predictor that randomly assigns a customer as churn or no churn\n",
    "def baseline_pred(X, y_true):\n",
    "    from numpy.random import rand, randint\n",
    "    y_pred = [randint(0,2) for i in range(X.shape[0])]\n",
    "   \n",
    "    tn, fp, fn, tp = confusion_matrix(y_true, y_pred).ravel()\n",
    "    accuracy = round(tp/X.shape[0],3)\n",
    "    print('baseline accuracy is {}'.format(accuracy))    \n",
    "\n",
    "baseline_pred(X, Y)"
   ]
  },
  {
   "cell_type": "code",
   "execution_count": 18,
   "metadata": {},
   "outputs": [],
   "source": [
    "#defining the metrics we want to use to compare for each model\n",
    "def classification_metrics(y_true, y_pred, model, y_prob, ret_results = True, print_res = True):\n",
    "    \"\"\"\n",
    "    Calculates different classification metrics for the model, and prints out the results\n",
    "    ----------\n",
    "    y_true : actual output values \n",
    "    y_pred : predicted values based on the model\n",
    "    model : Classification model with already training data fitted on the model\n",
    "    ret_results : To return different metrics as a dictionary\n",
    "    print_res : prints out the metrics as well as roc curve.\n",
    "    \n",
    "    Return\n",
    "    -------\n",
    "    Returns a dictionary with different metrics if ret_results is set to True\n",
    "    \"\"\"\n",
    "    import matplotlib.pyplot as plt\n",
    "    \n",
    "    #balanced accuracy score\n",
    "    from sklearn.metrics import balanced_accuracy_score, confusion_matrix, accuracy_score, roc_curve, auc\n",
    "    acc = round(accuracy_score(y_true, y_pred),3)\n",
    "    bal_acc = round(balanced_accuracy_score(y_true, y_pred),3)\n",
    "    #sensitivity and specificity - identifiying churning customers more important than stable customers\n",
    "    tn, fp, fn, tp = confusion_matrix(y_true, y_pred).ravel()\n",
    "    sensitivity = round(tp/(tp+fn), 3)\n",
    "    specificity = round(tn/(tn+fp), 3)\n",
    "    \n",
    "    #auc score\n",
    "    fpr, tpr, thresholds = roc_curve(y_true, y_prob[:,1])\n",
    "    auc_score = round(auc(fpr, tpr), 3)\n",
    "    res_dict = {'Accuracy':acc, 'Balanced acc':bal_acc, 'sensitivity': sensitivity, \n",
    "                'specificity':specificity, 'auc':auc_score}\n",
    "    \n",
    "    if print_res == True:\n",
    "        print(model)\n",
    "        print(res_dict)\n",
    "        \n",
    "        plt.grid()\n",
    "        plt.plot(fpr,tpr)\n",
    "        plt.fill_between(fpr, tpr, color = 'silver')\n",
    "        plt.annotate('Area under Curve {}'.format(auc_score), (0,0.9), fontsize = 10)\n",
    "        plt.title('ROC Curve')\n",
    "        plt.show()\n",
    "    \n",
    "    if ret_results == True:\n",
    "        return res_dict\n"
   ]
  },
  {
   "cell_type": "code",
   "execution_count": 19,
   "metadata": {},
   "outputs": [],
   "source": [
    "# need to generalize this function with any model and its additional parameters\n",
    "\n",
    "\n",
    "def model_CVsplit_metrics(X, Y, model, size = 0.4, random_st = 16):\n",
    "    \"\"\"\n",
    "    Fits the classification model with a train test split and calculates and displays the metrics\n",
    "    ----------\n",
    "    X : input data set \n",
    "    Y : output labels \n",
    "    model : Classification model with parameters tuned.\n",
    "    size : Size of the test for the train_test_split\n",
    "    random_st : random state value\n",
    "    \n",
    "    Return\n",
    "    -------\n",
    "    Returns the model with fitted data\n",
    "    \"\"\"\n",
    "    from sklearn.model_selection import train_test_split\n",
    "    \n",
    "    X_train, X_test, y_train, y_test = train_test_split(X, Y , test_size=size, random_state = random_st)\n",
    "    \n",
    "    model = model.fit(X_train,y_train)\n",
    "    \n",
    "    test_score = model.score(X_test, y_test)\n",
    "    train_score = model.score(X_train, y_train)\n",
    "       \n",
    "    print('test score {0:.3g}'.format(test_score))\n",
    "    print('training score {0:.3g}'.format(train_score))\n",
    "    \n",
    "    y_hat = model.predict(X_test)\n",
    "    y_proba = model.predict_proba(X_test)\n",
    "    \n",
    "    classification_metrics(y_true = y_test, y_pred=y_hat, model=model, y_prob=y_proba, ret_results= False)\n",
    "    return model"
   ]
  },
  {
   "cell_type": "code",
   "execution_count": 33,
   "metadata": {},
   "outputs": [],
   "source": []
  },
  {
   "cell_type": "code",
   "execution_count": 23,
   "metadata": {},
   "outputs": [
    {
     "name": "stdout",
     "output_type": "stream",
     "text": [
      "test score 0.797\n",
      "training score 0.805\n",
      "LogisticRegression(C=1.0, class_weight=None, dual=False, fit_intercept=True,\n",
      "                   intercept_scaling=1, l1_ratio=None, max_iter=100,\n",
      "                   multi_class='warn', n_jobs=None, penalty='l2',\n",
      "                   random_state=None, solver='liblinear', tol=0.0001, verbose=0,\n",
      "                   warm_start=False)\n",
      "{'Accuracy': 0.797, 'Balanced acc': 0.717, 'sensitivity': 0.548, 'specificity': 0.885, 'auc': 0.84}\n"
     ]
    },
    {
     "data": {
      "image/png": "[encoded data removed]",
      "text/plain": [
       "<Figure size 432x288 with 1 Axes>"
      ]
     },
     "metadata": {
      "needs_background": "light"
     },
     "output_type": "display_data"
    }
   ],
   "source": [
    "#applying logistic regression\n",
    "logit = LogisticRegression(solver='liblinear')\n",
    "logit = model_CVsplit_metrics(X, Y, model= logit)"
   ]
  },
  {
   "cell_type": "code",
   "execution_count": 21,
   "metadata": {},
   "outputs": [
    {
     "data": {
      "image/png": "[encoded data removed]",
      "text/plain": [
       "<Figure size 720x360 with 1 Axes>"
      ]
     },
     "metadata": {
      "needs_background": "light"
     },
     "output_type": "display_data"
    }
   ],
   "source": [
    "import matplotlib.pyplot as plt\n",
    "\n",
    "plt.figure(figsize=(10,5))\n",
    "plt.bar(x = X.columns, height=logit.coef_[0])\n",
    "plt.xticks(rotation=90)\n",
    "plt.ylim(-1.5,1.5)\n",
    "plt.grid()\n",
    "plt.show()"
   ]
  },
  {
   "cell_type": "code",
   "execution_count": null,
   "metadata": {},
   "outputs": [],
   "source": []
  },
  {
   "cell_type": "code",
   "execution_count": 28,
   "metadata": {},
   "outputs": [
    {
     "name": "stdout",
     "output_type": "stream",
     "text": [
      "test score 0.755\n",
      "training score 0.972\n",
      "KNeighborsClassifier(algorithm='auto', leaf_size=30, metric='minkowski',\n",
      "                     metric_params=None, n_jobs=None, n_neighbors=5, p=2,\n",
      "                     weights='distance')\n",
      "{'Accuracy': 0.755, 'Balanced acc': 0.671, 'sensitivity': 0.497, 'specificity': 0.846, 'auc': 0.747}\n"
     ]
    },
    {
     "data": {
      "image/png": "[encoded data removed]",
      "text/plain": [
       "<Figure size 432x288 with 1 Axes>"
      ]
     },
     "metadata": {
      "needs_background": "light"
     },
     "output_type": "display_data"
    }
   ],
   "source": [
    "knn_model = KNeighborsClassifier(weights='distance')\n",
    "knn_model = model_CVsplit_metrics(X,Y, knn_model)"
   ]
  },
  {
   "cell_type": "code",
   "execution_count": null,
   "metadata": {},
   "outputs": [],
   "source": []
  },
  {
   "cell_type": "code",
   "execution_count": 24,
   "metadata": {},
   "outputs": [
    {
     "name": "stdout",
     "output_type": "stream",
     "text": [
      "test score 0.772\n",
      "training score 0.973\n",
      "RandomForestClassifier(bootstrap=True, class_weight=None, criterion='gini',\n",
      "                       max_depth=None, max_features='auto', max_leaf_nodes=None,\n",
      "                       min_impurity_decrease=0.0, min_impurity_split=None,\n",
      "                       min_samples_leaf=1, min_samples_split=2,\n",
      "                       min_weight_fraction_leaf=0.0, n_estimators=100,\n",
      "                       n_jobs=None, oob_score=False, random_state=None,\n",
      "                       verbose=0, warm_start=False)\n",
      "{'Accuracy': 0.772, 'Balanced acc': 0.678, 'sensitivity': 0.482, 'specificity': 0.874, 'auc': 0.799}\n"
     ]
    },
    {
     "data": {
      "image/png": "[encoded data removed]",
      "text/plain": [
       "<Figure size 432x288 with 1 Axes>"
      ]
     },
     "metadata": {
      "needs_background": "light"
     },
     "output_type": "display_data"
    }
   ],
   "source": [
    "rnd_forest = RandomForestClassifier(n_estimators=100)\n",
    "rnd_forest = model_CVsplit_metrics(X,Y,rnd_forest)"
   ]
  },
  {
   "cell_type": "code",
   "execution_count": 25,
   "metadata": {},
   "outputs": [
    {
     "data": {
      "image/png": "[encoded data removed]",
      "text/plain": [
       "<Figure size 720x360 with 1 Axes>"
      ]
     },
     "metadata": {
      "needs_background": "light"
     },
     "output_type": "display_data"
    }
   ],
   "source": [
    "plt.figure(figsize=(10,5))\n",
    "plt.bar(x = X.columns, height=rnd_forest.feature_importances_)\n",
    "plt.xticks(rotation=90)\n",
    "plt.grid()\n",
    "plt.show()\n"
   ]
  },
  {
   "cell_type": "code",
   "execution_count": null,
   "metadata": {},
   "outputs": [],
   "source": []
  },
  {
   "cell_type": "code",
   "execution_count": 31,
   "metadata": {},
   "outputs": [
    {
     "name": "stdout",
     "output_type": "stream",
     "text": [
      "Accuracy : 0.798 (+/- 0.01) [Logistic reg]\n",
      "Accuracy : 0.760 (+/- 0.01) [KNN classification]\n",
      "Accuracy : 0.776 (+/- 0.01) [Random forest]\n",
      "Accuracy : 0.778 (+/- 0.01) [Voting ensemble]\n"
     ]
    }
   ],
   "source": [
    "#lets try voting classifier\n",
    "from sklearn.ensemble import VotingClassifier\n",
    "from sklearn.model_selection import cross_val_score\n",
    "\n",
    "vclf = VotingClassifier(estimators=[('lr',logit),('knn',knn_model),('rf',rnd_forest)], voting='hard')\n",
    "for clf, label in zip([logit, knn_model, rnd_forest, vclf], ['Logistic reg','KNN classification','Random forest','Voting ensemble']):\n",
    "    scores = cross_val_score(clf, X, Y, scoring ='accuracy', cv=5)\n",
    "    print('Accuracy : %0.3f (+/- %0.2f) [%s]'%(scores.mean(), scores.std(), label))\n"
   ]
  },
  {
   "cell_type": "markdown",
   "metadata": {},
   "source": [
    "Balanced accuracy is around 10% lesser than actual accuracy. This could be an indication of unbalanced classes. Can try to do some sampling techniques to see if it improves the prediction. \n",
    "\n",
    "Logistic regression, performs better. The accuracy is better than any of the models, and even its performence (auc)is better than other models. "
   ]
  },
  {
   "cell_type": "code",
   "execution_count": null,
   "metadata": {},
   "outputs": [],
   "source": []
  },
  {
   "cell_type": "code",
   "execution_count": null,
   "metadata": {},
   "outputs": [],
   "source": []
  },
  {
   "cell_type": "code",
   "execution_count": 110,
   "metadata": {},
   "outputs": [],
   "source": []
  },
  {
   "cell_type": "code",
   "execution_count": null,
   "metadata": {},
   "outputs": [],
   "source": []
  },
  {
   "cell_type": "code",
   "execution_count": null,
   "metadata": {},
   "outputs": [],
   "source": []
  },
  {
   "cell_type": "code",
   "execution_count": null,
   "metadata": {},
   "outputs": [],
   "source": []
  },
  {
   "cell_type": "code",
   "execution_count": null,
   "metadata": {},
   "outputs": [],
   "source": []
  }
 ],
 "metadata": {
  "kernelspec": {
   "display_name": "Python 3",
   "language": "python",
   "name": "python3"
  },
  "language_info": {
   "codemirror_mode": {
    "name": "ipython",
    "version": 3
   },
   "file_extension": ".py",
   "mimetype": "text/x-python",
   "name": "python",
   "nbconvert_exporter": "python",
   "pygments_lexer": "ipython3",
   "version": "3.7.3"
  }
 },
 "nbformat": 4,
 "nbformat_minor": 2
}
